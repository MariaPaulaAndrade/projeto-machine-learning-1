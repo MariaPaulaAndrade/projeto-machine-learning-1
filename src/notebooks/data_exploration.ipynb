{
 "cells": [
  {
   "cell_type": "markdown",
   "metadata": {},
   "source": [
    "Imports"
   ]
  },
  {
   "cell_type": "code",
   "execution_count": 1,
   "metadata": {},
   "outputs": [],
   "source": [
    "import pandas as pd\n",
    "import matplotlib.pyplot as plt"
   ]
  },
  {
   "cell_type": "markdown",
   "metadata": {},
   "source": [
    "Load"
   ]
  },
  {
   "cell_type": "code",
   "execution_count": 5,
   "metadata": {},
   "outputs": [],
   "source": [
    "df = pd.read_csv('../../data/external/bankloan.csv')"
   ]
  },
  {
   "cell_type": "markdown",
   "metadata": {},
   "source": [
    "#### Columns standardization"
   ]
  },
  {
   "cell_type": "code",
   "execution_count": 7,
   "metadata": {},
   "outputs": [],
   "source": [
    "columns = df.columns.tolist()"
   ]
  },
  {
   "cell_type": "code",
   "execution_count": 8,
   "metadata": {},
   "outputs": [
    {
     "data": {
      "text/plain": [
       "['ID',\n",
       " 'Age',\n",
       " 'Experience',\n",
       " 'Income',\n",
       " 'ZIP.Code',\n",
       " 'Family',\n",
       " 'CCAvg',\n",
       " 'Education',\n",
       " 'Mortgage',\n",
       " 'Personal.Loan',\n",
       " 'Securities.Account',\n",
       " 'CD.Account',\n",
       " 'Online',\n",
       " 'CreditCard']"
      ]
     },
     "execution_count": 8,
     "metadata": {},
     "output_type": "execute_result"
    }
   ],
   "source": [
    "columns"
   ]
  },
  {
   "cell_type": "code",
   "execution_count": 12,
   "metadata": {},
   "outputs": [],
   "source": [
    "rename_columns = {\n",
    "                    'Age': 'age',\n",
    "                    'Experience': 'experience',\n",
    "                    'Income': 'income',\n",
    "                    'ZIP.Code': 'zip_code',\n",
    "                    'Family': 'family',\n",
    "                    'CCAvg': 'cc_avg',\n",
    "                    'Education': 'education',\n",
    "                    'Mortgage': 'mortgage',\n",
    "                    'Personal.Loan': 'personal_loan',\n",
    "                    'Securities.Account': 'securities_account',\n",
    "                    'CD.Account': 'cd_account',\n",
    "                    'Online': 'online',\n",
    "                    'CreditCard': 'credit_card'\n",
    "                    \n",
    "                    }\n",
    "\n",
    "df = df.rename(columns=rename_columns)"
   ]
  },
  {
   "cell_type": "code",
   "execution_count": 13,
   "metadata": {},
   "outputs": [],
   "source": [
    "df = df.drop(columns='ID')"
   ]
  },
  {
   "cell_type": "code",
   "execution_count": 14,
   "metadata": {},
   "outputs": [
    {
     "data": {
      "text/html": [
       "<div>\n",
       "<style scoped>\n",
       "    .dataframe tbody tr th:only-of-type {\n",
       "        vertical-align: middle;\n",
       "    }\n",
       "\n",
       "    .dataframe tbody tr th {\n",
       "        vertical-align: top;\n",
       "    }\n",
       "\n",
       "    .dataframe thead th {\n",
       "        text-align: right;\n",
       "    }\n",
       "</style>\n",
       "<table border=\"1\" class=\"dataframe\">\n",
       "  <thead>\n",
       "    <tr style=\"text-align: right;\">\n",
       "      <th></th>\n",
       "      <th>age</th>\n",
       "      <th>experience</th>\n",
       "      <th>income</th>\n",
       "      <th>zip_code</th>\n",
       "      <th>family</th>\n",
       "      <th>cc_avg</th>\n",
       "      <th>education</th>\n",
       "      <th>mortgage</th>\n",
       "      <th>personal_loan</th>\n",
       "      <th>securities_account</th>\n",
       "      <th>cd_account</th>\n",
       "      <th>online</th>\n",
       "      <th>credit_card</th>\n",
       "    </tr>\n",
       "  </thead>\n",
       "  <tbody>\n",
       "    <tr>\n",
       "      <th>4642</th>\n",
       "      <td>65</td>\n",
       "      <td>40</td>\n",
       "      <td>143</td>\n",
       "      <td>95616</td>\n",
       "      <td>4</td>\n",
       "      <td>6.6</td>\n",
       "      <td>2</td>\n",
       "      <td>0</td>\n",
       "      <td>1</td>\n",
       "      <td>0</td>\n",
       "      <td>0</td>\n",
       "      <td>1</td>\n",
       "      <td>0</td>\n",
       "    </tr>\n",
       "    <tr>\n",
       "      <th>498</th>\n",
       "      <td>32</td>\n",
       "      <td>8</td>\n",
       "      <td>43</td>\n",
       "      <td>95023</td>\n",
       "      <td>1</td>\n",
       "      <td>2.1</td>\n",
       "      <td>3</td>\n",
       "      <td>0</td>\n",
       "      <td>0</td>\n",
       "      <td>0</td>\n",
       "      <td>0</td>\n",
       "      <td>0</td>\n",
       "      <td>1</td>\n",
       "    </tr>\n",
       "    <tr>\n",
       "      <th>4661</th>\n",
       "      <td>43</td>\n",
       "      <td>19</td>\n",
       "      <td>129</td>\n",
       "      <td>95039</td>\n",
       "      <td>1</td>\n",
       "      <td>5.0</td>\n",
       "      <td>1</td>\n",
       "      <td>0</td>\n",
       "      <td>0</td>\n",
       "      <td>1</td>\n",
       "      <td>0</td>\n",
       "      <td>1</td>\n",
       "      <td>0</td>\n",
       "    </tr>\n",
       "    <tr>\n",
       "      <th>2985</th>\n",
       "      <td>48</td>\n",
       "      <td>23</td>\n",
       "      <td>63</td>\n",
       "      <td>94606</td>\n",
       "      <td>4</td>\n",
       "      <td>3.6</td>\n",
       "      <td>3</td>\n",
       "      <td>0</td>\n",
       "      <td>0</td>\n",
       "      <td>0</td>\n",
       "      <td>0</td>\n",
       "      <td>0</td>\n",
       "      <td>0</td>\n",
       "    </tr>\n",
       "    <tr>\n",
       "      <th>521</th>\n",
       "      <td>48</td>\n",
       "      <td>24</td>\n",
       "      <td>75</td>\n",
       "      <td>92518</td>\n",
       "      <td>4</td>\n",
       "      <td>1.4</td>\n",
       "      <td>2</td>\n",
       "      <td>0</td>\n",
       "      <td>0</td>\n",
       "      <td>0</td>\n",
       "      <td>0</td>\n",
       "      <td>1</td>\n",
       "      <td>0</td>\n",
       "    </tr>\n",
       "    <tr>\n",
       "      <th>3081</th>\n",
       "      <td>36</td>\n",
       "      <td>10</td>\n",
       "      <td>78</td>\n",
       "      <td>95064</td>\n",
       "      <td>2</td>\n",
       "      <td>4.5</td>\n",
       "      <td>3</td>\n",
       "      <td>204</td>\n",
       "      <td>0</td>\n",
       "      <td>0</td>\n",
       "      <td>0</td>\n",
       "      <td>1</td>\n",
       "      <td>1</td>\n",
       "    </tr>\n",
       "    <tr>\n",
       "      <th>2082</th>\n",
       "      <td>32</td>\n",
       "      <td>7</td>\n",
       "      <td>55</td>\n",
       "      <td>91301</td>\n",
       "      <td>4</td>\n",
       "      <td>2.0</td>\n",
       "      <td>2</td>\n",
       "      <td>0</td>\n",
       "      <td>0</td>\n",
       "      <td>0</td>\n",
       "      <td>0</td>\n",
       "      <td>1</td>\n",
       "      <td>0</td>\n",
       "    </tr>\n",
       "  </tbody>\n",
       "</table>\n",
       "</div>"
      ],
      "text/plain": [
       "      age  experience  income  zip_code  family  cc_avg  education  mortgage  \\\n",
       "4642   65          40     143     95616       4     6.6          2         0   \n",
       "498    32           8      43     95023       1     2.1          3         0   \n",
       "4661   43          19     129     95039       1     5.0          1         0   \n",
       "2985   48          23      63     94606       4     3.6          3         0   \n",
       "521    48          24      75     92518       4     1.4          2         0   \n",
       "3081   36          10      78     95064       2     4.5          3       204   \n",
       "2082   32           7      55     91301       4     2.0          2         0   \n",
       "\n",
       "      personal_loan  securities_account  cd_account  online  credit_card  \n",
       "4642              1                   0           0       1            0  \n",
       "498               0                   0           0       0            1  \n",
       "4661              0                   1           0       1            0  \n",
       "2985              0                   0           0       0            0  \n",
       "521               0                   0           0       1            0  \n",
       "3081              0                   0           0       1            1  \n",
       "2082              0                   0           0       1            0  "
      ]
     },
     "execution_count": 14,
     "metadata": {},
     "output_type": "execute_result"
    }
   ],
   "source": [
    "df.sample(7)"
   ]
  },
  {
   "cell_type": "markdown",
   "metadata": {},
   "source": [
    "## Exploring features"
   ]
  },
  {
   "cell_type": "markdown",
   "metadata": {},
   "source": [
    "**Age** : Customer Age\n",
    "\n",
    "**Experience** : Customer Experience\n",
    "\n",
    "**Income** : Income of the Customer\n",
    "\n",
    "**ZipCode**: Customer's residence zipcode\n",
    "\n",
    "**Family** : Number of Family members of the customer\n",
    "\n",
    "**CCAvg**: Credit Card Average Score\n",
    "\n",
    "**Education**: Education of the customer\n",
    "\n",
    "**Mortgage**: Mortgage taken or not taken by the customer\n",
    "\n",
    "**Personal Loan**: 0 = No personal loan given , 1 = personal loan given\n",
    "\n",
    "**Securities Account** : Having or not having a Securities Account\n",
    "\n",
    "**CD Account** : Having or not having a CD Account\n",
    "\n",
    "**Online** : Having or not having online banking\n",
    "\n",
    "**Credit Card** : Having or not having a credit card"
   ]
  },
  {
   "cell_type": "markdown",
   "metadata": {},
   "source": [
    "#### Age"
   ]
  },
  {
   "cell_type": "code",
   "execution_count": 45,
   "metadata": {},
   "outputs": [
    {
     "data": {
      "text/plain": [
       "<Axes: ylabel='Frequency'>"
      ]
     },
     "execution_count": 45,
     "metadata": {},
     "output_type": "execute_result"
    },
    {
     "data": {
      "image/png": "[encoded data removed]",
      "text/plain": [
       "<Figure size 640x480 with 1 Axes>"
      ]
     },
     "metadata": {},
     "output_type": "display_data"
    }
   ],
   "source": [
    "df['age'].plot(kind='hist', bins=20)"
   ]
  },
  {
   "cell_type": "code",
   "execution_count": 47,
   "metadata": {},
   "outputs": [
    {
     "data": {
      "text/plain": [
       "age\n",
       "35    0.0302\n",
       "43    0.0298\n",
       "52    0.0290\n",
       "58    0.0286\n",
       "54    0.0286\n",
       "50    0.0276\n",
       "41    0.0272\n",
       "30    0.0272\n",
       "56    0.0270\n",
       "34    0.0268\n",
       "39    0.0266\n",
       "57    0.0264\n",
       "59    0.0264\n",
       "51    0.0258\n",
       "60    0.0254\n",
       "46    0.0254\n",
       "45    0.0254\n",
       "42    0.0252\n",
       "31    0.0250\n",
       "55    0.0250\n",
       "40    0.0250\n",
       "29    0.0246\n",
       "62    0.0246\n",
       "61    0.0244\n",
       "44    0.0242\n",
       "32    0.0240\n",
       "33    0.0240\n",
       "48    0.0236\n",
       "49    0.0230\n",
       "38    0.0230\n",
       "47    0.0226\n",
       "53    0.0224\n",
       "63    0.0216\n",
       "36    0.0214\n",
       "37    0.0212\n",
       "28    0.0206\n",
       "27    0.0182\n",
       "65    0.0160\n",
       "26    0.0156\n",
       "64    0.0156\n",
       "25    0.0106\n",
       "24    0.0056\n",
       "66    0.0048\n",
       "67    0.0024\n",
       "23    0.0024\n",
       "Name: proportion, dtype: float64"
      ]
     },
     "execution_count": 47,
     "metadata": {},
     "output_type": "execute_result"
    }
   ],
   "source": [
    "df['age'].value_counts(normalize=True)"
   ]
  },
  {
   "cell_type": "markdown",
   "metadata": {},
   "source": [
    "**Obs: This column is very balanced**"
   ]
  },
  {
   "cell_type": "markdown",
   "metadata": {},
   "source": [
    "#### Experience"
   ]
  },
  {
   "cell_type": "code",
   "execution_count": 52,
   "metadata": {},
   "outputs": [
    {
     "data": {
      "text/plain": [
       "count    5000.000000\n",
       "mean       20.104600\n",
       "std        11.467954\n",
       "min        -3.000000\n",
       "25%        10.000000\n",
       "50%        20.000000\n",
       "75%        30.000000\n",
       "max        43.000000\n",
       "Name: experience, dtype: float64"
      ]
     },
     "execution_count": 52,
     "metadata": {},
     "output_type": "execute_result"
    }
   ],
   "source": [
    "df['experience'].describe()"
   ]
  },
  {
   "cell_type": "code",
   "execution_count": 49,
   "metadata": {},
   "outputs": [
    {
     "data": {
      "text/plain": [
       "<Axes: ylabel='Frequency'>"
      ]
     },
     "execution_count": 49,
     "metadata": {},
     "output_type": "execute_result"
    },
    {
     "data": {
      "image/png": "[encoded data removed]",
      "text/plain": [
       "<Figure size 640x480 with 1 Axes>"
      ]
     },
     "metadata": {},
     "output_type": "display_data"
    }
   ],
   "source": [
    "df['experience'].plot(kind='hist')"
   ]
  },
  {
   "cell_type": "markdown",
   "metadata": {},
   "source": [
    "**Obs: Impossible to describe what it means**"
   ]
  },
  {
   "cell_type": "markdown",
   "metadata": {},
   "source": [
    "#### Income"
   ]
  },
  {
   "cell_type": "code",
   "execution_count": 53,
   "metadata": {},
   "outputs": [
    {
     "data": {
      "text/plain": [
       "count    5000.000000\n",
       "mean       73.774200\n",
       "std        46.033729\n",
       "min         8.000000\n",
       "25%        39.000000\n",
       "50%        64.000000\n",
       "75%        98.000000\n",
       "max       224.000000\n",
       "Name: income, dtype: float64"
      ]
     },
     "execution_count": 53,
     "metadata": {},
     "output_type": "execute_result"
    }
   ],
   "source": [
    "df['income'].describe()"
   ]
  },
  {
   "cell_type": "code",
   "execution_count": 81,
   "metadata": {},
   "outputs": [
    {
     "data": {
      "text/plain": [
       "{44: 85,\n",
       " 38: 84,\n",
       " 81: 83,\n",
       " 41: 82,\n",
       " 39: 81,\n",
       " 40: 78,\n",
       " 42: 77,\n",
       " 83: 74,\n",
       " 43: 70,\n",
       " 45: 69,\n",
       " 29: 67,\n",
       " 22: 65,\n",
       " 35: 65,\n",
       " 85: 65,\n",
       " 21: 65,\n",
       " 25: 64,\n",
       " 84: 63,\n",
       " 30: 63,\n",
       " 28: 63,\n",
       " 55: 61,\n",
       " 82: 61,\n",
       " 78: 61,\n",
       " 65: 60,\n",
       " 64: 60,\n",
       " 32: 58,\n",
       " 61: 57,\n",
       " 53: 57,\n",
       " 80: 56,\n",
       " 62: 55,\n",
       " 58: 55,\n",
       " 31: 55,\n",
       " 23: 54,\n",
       " 18: 53,\n",
       " 34: 53,\n",
       " 59: 53,\n",
       " 79: 53,\n",
       " 49: 52,\n",
       " 60: 52,\n",
       " 19: 52,\n",
       " 54: 52,\n",
       " 33: 51,\n",
       " 52: 47,\n",
       " 70: 47,\n",
       " 20: 47,\n",
       " 75: 47,\n",
       " 24: 47,\n",
       " 69: 46,\n",
       " 63: 46,\n",
       " 50: 45,\n",
       " 74: 45,\n",
       " 73: 44,\n",
       " 48: 44,\n",
       " 71: 43,\n",
       " 51: 41,\n",
       " 72: 41,\n",
       " 90: 38,\n",
       " 93: 37,\n",
       " 91: 37,\n",
       " 68: 35,\n",
       " 89: 34,\n",
       " 113: 34,\n",
       " 15: 33,\n",
       " 13: 32,\n",
       " 14: 31,\n",
       " 114: 30,\n",
       " 12: 30,\n",
       " 92: 29,\n",
       " 98: 28,\n",
       " 115: 27,\n",
       " 11: 27,\n",
       " 88: 26,\n",
       " 94: 26,\n",
       " 112: 26,\n",
       " 9: 26,\n",
       " 95: 25,\n",
       " 141: 24,\n",
       " 101: 24,\n",
       " 122: 24,\n",
       " 128: 24,\n",
       " 99: 24,\n",
       " 8: 23,\n",
       " 10: 23,\n",
       " 145: 23,\n",
       " 125: 23,\n",
       " 129: 23,\n",
       " 111: 22,\n",
       " 154: 21,\n",
       " 134: 20,\n",
       " 104: 20,\n",
       " 121: 20,\n",
       " 105: 20,\n",
       " 149: 20,\n",
       " 118: 19,\n",
       " 110: 19,\n",
       " 140: 19,\n",
       " 155: 19,\n",
       " 130: 19,\n",
       " 131: 19,\n",
       " 103: 18,\n",
       " 138: 18,\n",
       " 109: 18,\n",
       " 119: 18,\n",
       " 158: 18,\n",
       " 180: 18,\n",
       " 132: 18,\n",
       " 123: 18,\n",
       " 135: 18,\n",
       " 120: 17,\n",
       " 179: 17,\n",
       " 161: 16,\n",
       " 102: 16,\n",
       " 108: 16,\n",
       " 139: 16,\n",
       " 152: 15,\n",
       " 142: 15,\n",
       " 195: 15,\n",
       " 133: 15,\n",
       " 164: 13,\n",
       " 182: 13,\n",
       " 173: 13,\n",
       " 191: 13,\n",
       " 124: 12,\n",
       " 160: 12,\n",
       " 175: 12,\n",
       " 184: 12,\n",
       " 183: 12,\n",
       " 170: 12,\n",
       " 165: 11,\n",
       " 172: 11,\n",
       " 190: 11,\n",
       " 148: 11,\n",
       " 153: 11,\n",
       " 150: 11,\n",
       " 100: 10,\n",
       " 188: 10,\n",
       " 178: 10,\n",
       " 162: 10,\n",
       " 143: 9,\n",
       " 163: 9,\n",
       " 171: 9,\n",
       " 174: 9,\n",
       " 185: 9,\n",
       " 168: 8,\n",
       " 181: 8,\n",
       " 194: 8,\n",
       " 169: 7,\n",
       " 144: 7,\n",
       " 159: 7,\n",
       " 193: 6,\n",
       " 192: 6,\n",
       " 201: 5,\n",
       " 151: 4,\n",
       " 200: 3,\n",
       " 204: 3,\n",
       " 199: 3,\n",
       " 198: 3,\n",
       " 202: 2,\n",
       " 205: 2,\n",
       " 189: 2,\n",
       " 203: 2,\n",
       " 224: 1,\n",
       " 218: 1}"
      ]
     },
     "execution_count": 81,
     "metadata": {},
     "output_type": "execute_result"
    }
   ],
   "source": [
    "income_dist = df['income'].value_counts()\n",
    "income_dist.to_dict()"
   ]
  },
  {
   "cell_type": "code",
   "execution_count": 74,
   "metadata": {},
   "outputs": [
    {
     "data": {
      "text/plain": [
       "<Axes: ylabel='Frequency'>"
      ]
     },
     "execution_count": 74,
     "metadata": {},
     "output_type": "execute_result"
    },
    {
     "data": {
      "image/png": "[encoded data removed]",
      "text/plain": [
       "<Figure size 640x480 with 1 Axes>"
      ]
     },
     "metadata": {},
     "output_type": "display_data"
    }
   ],
   "source": [
    "df['income'].plot(kind='hist', bins=15)"
   ]
  },
  {
   "cell_type": "markdown",
   "metadata": {},
   "source": [
    "**Obs: Income is concentrated in range of ~10-35**"
   ]
  },
  {
   "cell_type": "markdown",
   "metadata": {},
   "source": [
    "#### Family"
   ]
  },
  {
   "cell_type": "code",
   "execution_count": 82,
   "metadata": {},
   "outputs": [
    {
     "data": {
      "text/plain": [
       "<Axes: ylabel='Frequency'>"
      ]
     },
     "execution_count": 82,
     "metadata": {},
     "output_type": "execute_result"
    },
    {
     "data": {
      "image/png": "[encoded data removed]",
      "text/plain": [
       "<Figure size 640x480 with 1 Axes>"
      ]
     },
     "metadata": {},
     "output_type": "display_data"
    }
   ],
   "source": [
    "df['family'].plot(kind=('hist'))"
   ]
  },
  {
   "cell_type": "code",
   "execution_count": 68,
   "metadata": {},
   "outputs": [
    {
     "data": {
      "text/plain": [
       "family\n",
       "1    0.2944\n",
       "2    0.2592\n",
       "4    0.2444\n",
       "3    0.2020\n",
       "Name: proportion, dtype: float64"
      ]
     },
     "execution_count": 68,
     "metadata": {},
     "output_type": "execute_result"
    }
   ],
   "source": [
    "df['family'].value_counts(normalize=True)"
   ]
  },
  {
   "cell_type": "markdown",
   "metadata": {},
   "source": [
    "#### Credit Card Avg Score"
   ]
  },
  {
   "cell_type": "code",
   "execution_count": 83,
   "metadata": {},
   "outputs": [
    {
     "data": {
      "text/plain": [
       "count    5000.000000\n",
       "mean        1.937938\n",
       "std         1.747659\n",
       "min         0.000000\n",
       "25%         0.700000\n",
       "50%         1.500000\n",
       "75%         2.500000\n",
       "max        10.000000\n",
       "Name: cc_avg, dtype: float64"
      ]
     },
     "execution_count": 83,
     "metadata": {},
     "output_type": "execute_result"
    }
   ],
   "source": [
    "df['cc_avg'].describe()"
   ]
  },
  {
   "cell_type": "code",
   "execution_count": 86,
   "metadata": {},
   "outputs": [
    {
     "data": {
      "text/plain": [
       "cc_avg\n",
       "0.30    241\n",
       "1.00    231\n",
       "0.20    204\n",
       "2.00    188\n",
       "0.80    187\n",
       "       ... \n",
       "8.20      1\n",
       "3.33      1\n",
       "5.33      1\n",
       "9.30      1\n",
       "2.75      1\n",
       "Name: count, Length: 108, dtype: int64"
      ]
     },
     "execution_count": 86,
     "metadata": {},
     "output_type": "execute_result"
    }
   ],
   "source": [
    "df['cc_avg'].value_counts()"
   ]
  },
  {
   "cell_type": "code",
   "execution_count": 87,
   "metadata": {},
   "outputs": [
    {
     "data": {
      "text/plain": [
       "<Axes: ylabel='Frequency'>"
      ]
     },
     "execution_count": 87,
     "metadata": {},
     "output_type": "execute_result"
    },
    {
     "data": {
      "image/png": "[encoded data removed]",
      "text/plain": [
       "<Figure size 640x480 with 1 Axes>"
      ]
     },
     "metadata": {},
     "output_type": "display_data"
    }
   ],
   "source": [
    "df['cc_avg'].plot(kind='hist')"
   ]
  },
  {
   "cell_type": "markdown",
   "metadata": {},
   "source": [
    "**Obs: Dataset's Credit Score Avg is very low**"
   ]
  },
  {
   "cell_type": "markdown",
   "metadata": {},
   "source": [
    "#### Education"
   ]
  },
  {
   "cell_type": "code",
   "execution_count": 88,
   "metadata": {},
   "outputs": [
    {
     "data": {
      "text/plain": [
       "education\n",
       "1    2096\n",
       "3    1501\n",
       "2    1403\n",
       "Name: count, dtype: int64"
      ]
     },
     "execution_count": 88,
     "metadata": {},
     "output_type": "execute_result"
    }
   ],
   "source": [
    "df['education'].value_counts()"
   ]
  },
  {
   "cell_type": "markdown",
   "metadata": {},
   "source": [
    "**Obs: Seems scholarity data has an ordinal standard and it's balanced**"
   ]
  },
  {
   "cell_type": "markdown",
   "metadata": {},
   "source": [
    "#### Mortgage"
   ]
  },
  {
   "cell_type": "code",
   "execution_count": 90,
   "metadata": {},
   "outputs": [
    {
     "data": {
      "text/plain": [
       "mortgage\n",
       "0      3462\n",
       "98       17\n",
       "103      16\n",
       "89       16\n",
       "91       16\n",
       "       ... \n",
       "550       1\n",
       "283       1\n",
       "612       1\n",
       "590       1\n",
       "541       1\n",
       "Name: count, Length: 347, dtype: int64"
      ]
     },
     "execution_count": 90,
     "metadata": {},
     "output_type": "execute_result"
    }
   ],
   "source": [
    "df['mortgage'].value_counts()"
   ]
  },
  {
   "cell_type": "code",
   "execution_count": 97,
   "metadata": {},
   "outputs": [
    {
     "data": {
      "text/plain": [
       "<Axes: ylabel='Frequency'>"
      ]
     },
     "execution_count": 97,
     "metadata": {},
     "output_type": "execute_result"
    },
    {
     "data": {
      "image/png": "[encoded data removed]",
      "text/plain": [
       "<Figure size 640x480 with 1 Axes>"
      ]
     },
     "metadata": {},
     "output_type": "display_data"
    }
   ],
   "source": [
    "df['mortgage'].plot(kind='hist', bins=15)"
   ]
  },
  {
   "cell_type": "markdown",
   "metadata": {},
   "source": [
    "**Obs: The mortgage values taken are concentrated near the edge, very close to zero, and a little in the ~100-200 range.**"
   ]
  },
  {
   "cell_type": "markdown",
   "metadata": {},
   "source": [
    "#### Personal Loan"
   ]
  },
  {
   "cell_type": "code",
   "execution_count": 99,
   "metadata": {},
   "outputs": [
    {
     "data": {
      "text/plain": [
       "personal_loan\n",
       "0    0.904\n",
       "1    0.096\n",
       "Name: proportion, dtype: float64"
      ]
     },
     "execution_count": 99,
     "metadata": {},
     "output_type": "execute_result"
    }
   ],
   "source": [
    "df['personal_loan'].value_counts(normalize=True)"
   ]
  },
  {
   "cell_type": "markdown",
   "metadata": {},
   "source": [
    "**Obs: You don't have to dig deep to see that this is unbalanced.**"
   ]
  },
  {
   "cell_type": "markdown",
   "metadata": {},
   "source": [
    "#### Securities Account"
   ]
  },
  {
   "cell_type": "code",
   "execution_count": 101,
   "metadata": {},
   "outputs": [
    {
     "data": {
      "text/plain": [
       "securities_account\n",
       "0    0.8956\n",
       "1    0.1044\n",
       "Name: proportion, dtype: float64"
      ]
     },
     "execution_count": 101,
     "metadata": {},
     "output_type": "execute_result"
    }
   ],
   "source": [
    "df['securities_account'].value_counts(normalize=True)"
   ]
  },
  {
   "cell_type": "markdown",
   "metadata": {},
   "source": [
    "**Obs: Same energy here, like personal loan**"
   ]
  },
  {
   "cell_type": "markdown",
   "metadata": {},
   "source": [
    "#### CD Account"
   ]
  },
  {
   "cell_type": "code",
   "execution_count": 103,
   "metadata": {},
   "outputs": [
    {
     "data": {
      "text/plain": [
       "cd_account\n",
       "0    0.9396\n",
       "1    0.0604\n",
       "Name: proportion, dtype: float64"
      ]
     },
     "execution_count": 103,
     "metadata": {},
     "output_type": "execute_result"
    }
   ],
   "source": [
    "df['cd_account'].value_counts(normalize=True)"
   ]
  },
  {
   "cell_type": "markdown",
   "metadata": {},
   "source": [
    "**Obs: Unbalanced again.**"
   ]
  },
  {
   "cell_type": "markdown",
   "metadata": {},
   "source": [
    "#### Online Bank Account"
   ]
  },
  {
   "cell_type": "code",
   "execution_count": 104,
   "metadata": {},
   "outputs": [
    {
     "data": {
      "text/plain": [
       "online\n",
       "1    0.5968\n",
       "0    0.4032\n",
       "Name: proportion, dtype: float64"
      ]
     },
     "execution_count": 104,
     "metadata": {},
     "output_type": "execute_result"
    }
   ],
   "source": [
    "df['online'].value_counts(normalize=True)"
   ]
  },
  {
   "cell_type": "markdown",
   "metadata": {},
   "source": [
    "**Obs: Different situation here. We have almost 60% of costumers with online banking access.**"
   ]
  },
  {
   "cell_type": "markdown",
   "metadata": {},
   "source": [
    "#### Credit Card"
   ]
  },
  {
   "cell_type": "code",
   "execution_count": 105,
   "metadata": {},
   "outputs": [
    {
     "data": {
      "text/plain": [
       "credit_card\n",
       "0    0.706\n",
       "1    0.294\n",
       "Name: proportion, dtype: float64"
      ]
     },
     "execution_count": 105,
     "metadata": {},
     "output_type": "execute_result"
    }
   ],
   "source": [
    "df['credit_card'].value_counts(normalize=True)"
   ]
  },
  {
   "cell_type": "markdown",
   "metadata": {},
   "source": [
    "**Obs: Finally, categorical feature that must represent if a customer have or not a credit card in use.**"
   ]
  },
  {
   "cell_type": "code",
   "execution_count": 106,
   "metadata": {},
   "outputs": [
    {
     "data": {
      "text/html": [
       "<div>\n",
       "<style scoped>\n",
       "    .dataframe tbody tr th:only-of-type {\n",
       "        vertical-align: middle;\n",
       "    }\n",
       "\n",
       "    .dataframe tbody tr th {\n",
       "        vertical-align: top;\n",
       "    }\n",
       "\n",
       "    .dataframe thead th {\n",
       "        text-align: right;\n",
       "    }\n",
       "</style>\n",
       "<table border=\"1\" class=\"dataframe\">\n",
       "  <thead>\n",
       "    <tr style=\"text-align: right;\">\n",
       "      <th></th>\n",
       "      <th>age</th>\n",
       "      <th>experience</th>\n",
       "      <th>income</th>\n",
       "      <th>zip_code</th>\n",
       "      <th>family</th>\n",
       "      <th>cc_avg</th>\n",
       "      <th>education</th>\n",
       "      <th>mortgage</th>\n",
       "      <th>personal_loan</th>\n",
       "      <th>securities_account</th>\n",
       "      <th>cd_account</th>\n",
       "      <th>online</th>\n",
       "      <th>credit_card</th>\n",
       "    </tr>\n",
       "  </thead>\n",
       "  <tbody>\n",
       "    <tr>\n",
       "      <th>2798</th>\n",
       "      <td>58</td>\n",
       "      <td>33</td>\n",
       "      <td>28</td>\n",
       "      <td>94720</td>\n",
       "      <td>1</td>\n",
       "      <td>0.30</td>\n",
       "      <td>3</td>\n",
       "      <td>0</td>\n",
       "      <td>0</td>\n",
       "      <td>0</td>\n",
       "      <td>0</td>\n",
       "      <td>1</td>\n",
       "      <td>0</td>\n",
       "    </tr>\n",
       "    <tr>\n",
       "      <th>3398</th>\n",
       "      <td>40</td>\n",
       "      <td>14</td>\n",
       "      <td>62</td>\n",
       "      <td>92028</td>\n",
       "      <td>2</td>\n",
       "      <td>2.40</td>\n",
       "      <td>2</td>\n",
       "      <td>0</td>\n",
       "      <td>0</td>\n",
       "      <td>0</td>\n",
       "      <td>0</td>\n",
       "      <td>1</td>\n",
       "      <td>1</td>\n",
       "    </tr>\n",
       "    <tr>\n",
       "      <th>2348</th>\n",
       "      <td>51</td>\n",
       "      <td>25</td>\n",
       "      <td>85</td>\n",
       "      <td>94015</td>\n",
       "      <td>4</td>\n",
       "      <td>4.90</td>\n",
       "      <td>1</td>\n",
       "      <td>0</td>\n",
       "      <td>0</td>\n",
       "      <td>0</td>\n",
       "      <td>0</td>\n",
       "      <td>1</td>\n",
       "      <td>1</td>\n",
       "    </tr>\n",
       "    <tr>\n",
       "      <th>4400</th>\n",
       "      <td>34</td>\n",
       "      <td>10</td>\n",
       "      <td>44</td>\n",
       "      <td>94143</td>\n",
       "      <td>1</td>\n",
       "      <td>1.33</td>\n",
       "      <td>1</td>\n",
       "      <td>0</td>\n",
       "      <td>0</td>\n",
       "      <td>0</td>\n",
       "      <td>0</td>\n",
       "      <td>1</td>\n",
       "      <td>0</td>\n",
       "    </tr>\n",
       "    <tr>\n",
       "      <th>1653</th>\n",
       "      <td>26</td>\n",
       "      <td>1</td>\n",
       "      <td>24</td>\n",
       "      <td>96651</td>\n",
       "      <td>2</td>\n",
       "      <td>0.90</td>\n",
       "      <td>3</td>\n",
       "      <td>123</td>\n",
       "      <td>0</td>\n",
       "      <td>0</td>\n",
       "      <td>0</td>\n",
       "      <td>0</td>\n",
       "      <td>1</td>\n",
       "    </tr>\n",
       "    <tr>\n",
       "      <th>2240</th>\n",
       "      <td>41</td>\n",
       "      <td>17</td>\n",
       "      <td>81</td>\n",
       "      <td>92868</td>\n",
       "      <td>4</td>\n",
       "      <td>0.20</td>\n",
       "      <td>3</td>\n",
       "      <td>167</td>\n",
       "      <td>0</td>\n",
       "      <td>1</td>\n",
       "      <td>0</td>\n",
       "      <td>0</td>\n",
       "      <td>0</td>\n",
       "    </tr>\n",
       "    <tr>\n",
       "      <th>648</th>\n",
       "      <td>50</td>\n",
       "      <td>25</td>\n",
       "      <td>34</td>\n",
       "      <td>95621</td>\n",
       "      <td>1</td>\n",
       "      <td>1.30</td>\n",
       "      <td>2</td>\n",
       "      <td>0</td>\n",
       "      <td>0</td>\n",
       "      <td>0</td>\n",
       "      <td>0</td>\n",
       "      <td>1</td>\n",
       "      <td>0</td>\n",
       "    </tr>\n",
       "  </tbody>\n",
       "</table>\n",
       "</div>"
      ],
      "text/plain": [
       "      age  experience  income  zip_code  family  cc_avg  education  mortgage  \\\n",
       "2798   58          33      28     94720       1    0.30          3         0   \n",
       "3398   40          14      62     92028       2    2.40          2         0   \n",
       "2348   51          25      85     94015       4    4.90          1         0   \n",
       "4400   34          10      44     94143       1    1.33          1         0   \n",
       "1653   26           1      24     96651       2    0.90          3       123   \n",
       "2240   41          17      81     92868       4    0.20          3       167   \n",
       "648    50          25      34     95621       1    1.30          2         0   \n",
       "\n",
       "      personal_loan  securities_account  cd_account  online  credit_card  \n",
       "2798              0                   0           0       1            0  \n",
       "3398              0                   0           0       1            1  \n",
       "2348              0                   0           0       1            1  \n",
       "4400              0                   0           0       1            0  \n",
       "1653              0                   0           0       0            1  \n",
       "2240              0                   1           0       0            0  \n",
       "648               0                   0           0       1            0  "
      ]
     },
     "execution_count": 106,
     "metadata": {},
     "output_type": "execute_result"
    }
   ],
   "source": [
    "df.sample(7)"
   ]
  },
  {
   "cell_type": "code",
   "execution_count": 107,
   "metadata": {},
   "outputs": [],
   "source": [
    "df.to_csv('../../data/external/bankloan_cleaned.csv', index=False)"
   ]
  },
  {
   "cell_type": "code",
   "execution_count": null,
   "metadata": {},
   "outputs": [],
   "source": []
  }
 ],
 "metadata": {
  "kernelspec": {
   "display_name": "env",
   "language": "python",
   "name": "python3"
  },
  "language_info": {
   "codemirror_mode": {
    "name": "ipython",
    "version": 3
   },
   "file_extension": ".py",
   "mimetype": "text/x-python",
   "name": "python",
   "nbconvert_exporter": "python",
   "pygments_lexer": "ipython3",
   "version": "3.11.2"
  }
 },
 "nbformat": 4,
 "nbformat_minor": 2
}
