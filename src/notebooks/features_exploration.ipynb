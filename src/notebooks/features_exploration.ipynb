{
 "cells": [
  {
   "cell_type": "markdown",
   "metadata": {},
   "source": [
    "Imports"
   ]
  },
  {
   "cell_type": "code",
   "execution_count": 5,
   "metadata": {},
   "outputs": [],
   "source": [
    "import pandas as pd\n",
    "import numpy as np"
   ]
  },
  {
   "cell_type": "code",
   "execution_count": 6,
   "metadata": {},
   "outputs": [],
   "source": [
    "df = pd.read_csv('../../data/feature_store/data_with_new_features.csv')"
   ]
  },
  {
   "cell_type": "code",
   "execution_count": 7,
   "metadata": {},
   "outputs": [
    {
     "name": "stdout",
     "output_type": "stream",
     "text": [
      "<class 'pandas.core.frame.DataFrame'>\n",
      "RangeIndex: 4894 entries, 0 to 4893\n",
      "Data columns (total 21 columns):\n",
      " #   Column                    Non-Null Count  Dtype  \n",
      "---  ------                    --------------  -----  \n",
      " 0   ID                        4894 non-null   int64  \n",
      " 1   age                       4894 non-null   int64  \n",
      " 2   experience                4894 non-null   int64  \n",
      " 3   income                    4894 non-null   int64  \n",
      " 4   zip_code                  4894 non-null   int64  \n",
      " 5   family                    4894 non-null   int64  \n",
      " 6   cc_avg                    4894 non-null   float64\n",
      " 7   education                 4894 non-null   int64  \n",
      " 8   mortgage                  4894 non-null   int64  \n",
      " 9   personal_loan             4894 non-null   int64  \n",
      " 10  securities_account        4894 non-null   int64  \n",
      " 11  cd_account                4894 non-null   int64  \n",
      " 12  online                    4894 non-null   int64  \n",
      " 13  credit_card               4894 non-null   int64  \n",
      " 14  age_bracket               4894 non-null   int64  \n",
      " 15  age_bracket_name          4894 non-null   object \n",
      " 16  income_per_family_member  4894 non-null   float64\n",
      " 17  cc_to_income_ratio        4894 non-null   float64\n",
      " 18  debt_to_income_ratio      4894 non-null   float64\n",
      " 19  financial_maturity_index  4894 non-null   float64\n",
      " 20  experience_bracket        4894 non-null   int64  \n",
      "dtypes: float64(5), int64(15), object(1)\n",
      "memory usage: 803.1+ KB\n"
     ]
    }
   ],
   "source": [
    "df.info()"
   ]
  },
  {
   "cell_type": "code",
   "execution_count": 8,
   "metadata": {},
   "outputs": [],
   "source": [
    "# columns\n",
    "\n",
    "features = df.columns.tolist()"
   ]
  },
  {
   "cell_type": "code",
   "execution_count": 9,
   "metadata": {},
   "outputs": [],
   "source": [
    "#  Renda per capita por membro da familia (média)\n",
    "'''\n",
    "pode ajudar a entender a capacidade de pagamento\n",
    "de despesas per capita.\n",
    "'''\n",
    "\n",
    "df['income_per_family_member'] = df['income'] / (df['family'] + 1)\n",
    "\n",
    "# Despesas com cartão de crédito em relação a renda\n",
    "\n",
    "'''\n",
    "captura o quanto o individuo gasta com cartão de crédito em relação\n",
    "ao total de sua renda. Pode ser uma indicação de risco caso essa \n",
    "taxa seja alta.\n",
    "'''\n",
    "\n",
    "df['cc_to_income_ratio'] = df['cc_avg'] / df['income']\n",
    "\n",
    "# Indice de comprometimento de renda com dividas\n",
    "\n",
    "'''\n",
    "fornece uma ideia da relação entre a dívida e a renda total\n",
    "para medir a capacidade de tomar um novo crédito.\n",
    "'''\n",
    "\n",
    "df['debt_to_income_ratio'] = (df['cc_avg'] + df['mortgage']) / df['income']\n",
    "\n",
    "\n",
    "# Nível de maturidade financeira\n",
    "\n",
    "'''\n",
    "\n",
    "'''\n",
    "\n",
    "df['financial_maturity_index'] = (df['income'] / df['cc_avg'])"
   ]
  },
  {
   "cell_type": "code",
   "execution_count": 10,
   "metadata": {},
   "outputs": [
    {
     "name": "stdout",
     "output_type": "stream",
     "text": [
      "<class 'pandas.core.frame.DataFrame'>\n",
      "RangeIndex: 4894 entries, 0 to 4893\n",
      "Data columns (total 21 columns):\n",
      " #   Column                    Non-Null Count  Dtype  \n",
      "---  ------                    --------------  -----  \n",
      " 0   ID                        4894 non-null   int64  \n",
      " 1   age                       4894 non-null   int64  \n",
      " 2   experience                4894 non-null   int64  \n",
      " 3   income                    4894 non-null   int64  \n",
      " 4   zip_code                  4894 non-null   int64  \n",
      " 5   family                    4894 non-null   int64  \n",
      " 6   cc_avg                    4894 non-null   float64\n",
      " 7   education                 4894 non-null   int64  \n",
      " 8   mortgage                  4894 non-null   int64  \n",
      " 9   personal_loan             4894 non-null   int64  \n",
      " 10  securities_account        4894 non-null   int64  \n",
      " 11  cd_account                4894 non-null   int64  \n",
      " 12  online                    4894 non-null   int64  \n",
      " 13  credit_card               4894 non-null   int64  \n",
      " 14  age_bracket               4894 non-null   int64  \n",
      " 15  age_bracket_name          4894 non-null   object \n",
      " 16  income_per_family_member  4894 non-null   float64\n",
      " 17  cc_to_income_ratio        4894 non-null   float64\n",
      " 18  debt_to_income_ratio      4894 non-null   float64\n",
      " 19  financial_maturity_index  4894 non-null   float64\n",
      " 20  experience_bracket        4894 non-null   int64  \n",
      "dtypes: float64(5), int64(15), object(1)\n",
      "memory usage: 803.1+ KB\n"
     ]
    }
   ],
   "source": [
    "df.info()"
   ]
  },
  {
   "cell_type": "code",
   "execution_count": 11,
   "metadata": {},
   "outputs": [
    {
     "data": {
      "text/plain": [
       "<Axes: ylabel='Frequency'>"
      ]
     },
     "execution_count": 11,
     "metadata": {},
     "output_type": "execute_result"
    },
    {
     "data": {
      "image/png": "[encoded data removed]",
      "text/plain": [
       "<Figure size 640x480 with 1 Axes>"
      ]
     },
     "metadata": {},
     "output_type": "display_data"
    }
   ],
   "source": [
    "df['income_per_family_member'].plot(kind='hist', bins=35)"
   ]
  },
  {
   "cell_type": "code",
   "execution_count": 12,
   "metadata": {},
   "outputs": [
    {
     "data": {
      "text/plain": [
       "<Axes: ylabel='Frequency'>"
      ]
     },
     "execution_count": 12,
     "metadata": {},
     "output_type": "execute_result"
    },
    {
     "data": {
      "image/png": "[encoded data removed]",
      "text/plain": [
       "<Figure size 640x480 with 1 Axes>"
      ]
     },
     "metadata": {},
     "output_type": "display_data"
    }
   ],
   "source": [
    "df['cc_to_income_ratio'].plot(kind='hist', bins=35)"
   ]
  },
  {
   "cell_type": "code",
   "execution_count": 13,
   "metadata": {},
   "outputs": [],
   "source": [
    "# Identificando valores tendendo ao infinito...\n",
    "\n",
    "infinite_values = df[df['financial_maturity_index'].isin([np.inf, -np.inf])]"
   ]
  },
  {
   "cell_type": "code",
   "execution_count": 14,
   "metadata": {},
   "outputs": [],
   "source": [
    "# Tratando valores que podem estar tendendo ao infinito\n",
    "\n",
    "df.replace([np.inf, -np.inf], np.nan, inplace=True)\n",
    "df.dropna(inplace=True)"
   ]
  },
  {
   "cell_type": "code",
   "execution_count": 15,
   "metadata": {},
   "outputs": [
    {
     "data": {
      "text/plain": [
       "0        30.625000\n",
       "1        22.666667\n",
       "2        11.000000\n",
       "3        37.037037\n",
       "4        45.000000\n",
       "           ...    \n",
       "4889     21.052632\n",
       "4890     37.500000\n",
       "4891     80.000000\n",
       "4892     98.000000\n",
       "4893    103.750000\n",
       "Name: financial_maturity_index, Length: 4894, dtype: float64"
      ]
     },
     "execution_count": 15,
     "metadata": {},
     "output_type": "execute_result"
    }
   ],
   "source": [
    "df['financial_maturity_index']"
   ]
  },
  {
   "cell_type": "code",
   "execution_count": 16,
   "metadata": {},
   "outputs": [
    {
     "data": {
      "text/plain": [
       "<Axes: ylabel='Frequency'>"
      ]
     },
     "execution_count": 16,
     "metadata": {},
     "output_type": "execute_result"
    },
    {
     "data": {
      "image/png": "[encoded data removed]",
      "text/plain": [
       "<Figure size 640x480 with 1 Axes>"
      ]
     },
     "metadata": {},
     "output_type": "display_data"
    }
   ],
   "source": [
    "df['financial_maturity_index'].plot(kind='hist')"
   ]
  },
  {
   "cell_type": "code",
   "execution_count": 17,
   "metadata": {},
   "outputs": [
    {
     "name": "stdout",
     "output_type": "stream",
     "text": [
      "<class 'pandas.core.frame.DataFrame'>\n",
      "RangeIndex: 4894 entries, 0 to 4893\n",
      "Data columns (total 21 columns):\n",
      " #   Column                    Non-Null Count  Dtype  \n",
      "---  ------                    --------------  -----  \n",
      " 0   ID                        4894 non-null   int64  \n",
      " 1   age                       4894 non-null   int64  \n",
      " 2   experience                4894 non-null   int64  \n",
      " 3   income                    4894 non-null   int64  \n",
      " 4   zip_code                  4894 non-null   int64  \n",
      " 5   family                    4894 non-null   int64  \n",
      " 6   cc_avg                    4894 non-null   float64\n",
      " 7   education                 4894 non-null   int64  \n",
      " 8   mortgage                  4894 non-null   int64  \n",
      " 9   personal_loan             4894 non-null   int64  \n",
      " 10  securities_account        4894 non-null   int64  \n",
      " 11  cd_account                4894 non-null   int64  \n",
      " 12  online                    4894 non-null   int64  \n",
      " 13  credit_card               4894 non-null   int64  \n",
      " 14  age_bracket               4894 non-null   int64  \n",
      " 15  age_bracket_name          4894 non-null   object \n",
      " 16  income_per_family_member  4894 non-null   float64\n",
      " 17  cc_to_income_ratio        4894 non-null   float64\n",
      " 18  debt_to_income_ratio      4894 non-null   float64\n",
      " 19  financial_maturity_index  4894 non-null   float64\n",
      " 20  experience_bracket        4894 non-null   int64  \n",
      "dtypes: float64(5), int64(15), object(1)\n",
      "memory usage: 803.1+ KB\n"
     ]
    }
   ],
   "source": [
    "df.info()"
   ]
  },
  {
   "cell_type": "code",
   "execution_count": 18,
   "metadata": {},
   "outputs": [
    {
     "data": {
      "text/plain": [
       "education\n",
       "1    2035\n",
       "3    1475\n",
       "2    1384\n",
       "Name: count, dtype: int64"
      ]
     },
     "execution_count": 18,
     "metadata": {},
     "output_type": "execute_result"
    }
   ],
   "source": [
    "df['education'].value_counts()"
   ]
  },
  {
   "cell_type": "code",
   "execution_count": 26,
   "metadata": {},
   "outputs": [],
   "source": [
    "def renaming(degree: int) -> str:\n",
    "    if degree == 1:\n",
    "        return 'high school'\n",
    "    elif degree == 2:\n",
    "        return 'college'\n",
    "    else:\n",
    "        return 'postgraduate'\n",
    "\n",
    "\n",
    "df['education_degree'] = df['education'].apply(renaming)"
   ]
  },
  {
   "cell_type": "code",
   "execution_count": 28,
   "metadata": {},
   "outputs": [
    {
     "data": {
      "text/plain": [
       "education_degree\n",
       "high school     0.415815\n",
       "postgraduate    0.301389\n",
       "college         0.282795\n",
       "Name: proportion, dtype: float64"
      ]
     },
     "execution_count": 28,
     "metadata": {},
     "output_type": "execute_result"
    }
   ],
   "source": [
    "df['education_degree'].value_counts(normalize=True)"
   ]
  },
  {
   "cell_type": "code",
   "execution_count": 29,
   "metadata": {},
   "outputs": [
    {
     "data": {
      "text/html": [
       "<div>\n",
       "<style scoped>\n",
       "    .dataframe tbody tr th:only-of-type {\n",
       "        vertical-align: middle;\n",
       "    }\n",
       "\n",
       "    .dataframe tbody tr th {\n",
       "        vertical-align: top;\n",
       "    }\n",
       "\n",
       "    .dataframe thead th {\n",
       "        text-align: right;\n",
       "    }\n",
       "</style>\n",
       "<table border=\"1\" class=\"dataframe\">\n",
       "  <thead>\n",
       "    <tr style=\"text-align: right;\">\n",
       "      <th></th>\n",
       "      <th>education</th>\n",
       "      <th>education_degree</th>\n",
       "    </tr>\n",
       "  </thead>\n",
       "  <tbody>\n",
       "    <tr>\n",
       "      <th>0</th>\n",
       "      <td>1</td>\n",
       "      <td>high school</td>\n",
       "    </tr>\n",
       "    <tr>\n",
       "      <th>1</th>\n",
       "      <td>1</td>\n",
       "      <td>high school</td>\n",
       "    </tr>\n",
       "    <tr>\n",
       "      <th>2</th>\n",
       "      <td>1</td>\n",
       "      <td>high school</td>\n",
       "    </tr>\n",
       "    <tr>\n",
       "      <th>3</th>\n",
       "      <td>2</td>\n",
       "      <td>college</td>\n",
       "    </tr>\n",
       "    <tr>\n",
       "      <th>4</th>\n",
       "      <td>2</td>\n",
       "      <td>college</td>\n",
       "    </tr>\n",
       "    <tr>\n",
       "      <th>...</th>\n",
       "      <td>...</td>\n",
       "      <td>...</td>\n",
       "    </tr>\n",
       "    <tr>\n",
       "      <th>4889</th>\n",
       "      <td>3</td>\n",
       "      <td>postgraduate</td>\n",
       "    </tr>\n",
       "    <tr>\n",
       "      <th>4890</th>\n",
       "      <td>1</td>\n",
       "      <td>high school</td>\n",
       "    </tr>\n",
       "    <tr>\n",
       "      <th>4891</th>\n",
       "      <td>3</td>\n",
       "      <td>postgraduate</td>\n",
       "    </tr>\n",
       "    <tr>\n",
       "      <th>4892</th>\n",
       "      <td>2</td>\n",
       "      <td>college</td>\n",
       "    </tr>\n",
       "    <tr>\n",
       "      <th>4893</th>\n",
       "      <td>1</td>\n",
       "      <td>high school</td>\n",
       "    </tr>\n",
       "  </tbody>\n",
       "</table>\n",
       "<p>4894 rows × 2 columns</p>\n",
       "</div>"
      ],
      "text/plain": [
       "      education education_degree\n",
       "0             1      high school\n",
       "1             1      high school\n",
       "2             1      high school\n",
       "3             2          college\n",
       "4             2          college\n",
       "...         ...              ...\n",
       "4889          3     postgraduate\n",
       "4890          1      high school\n",
       "4891          3     postgraduate\n",
       "4892          2          college\n",
       "4893          1      high school\n",
       "\n",
       "[4894 rows x 2 columns]"
      ]
     },
     "execution_count": 29,
     "metadata": {},
     "output_type": "execute_result"
    }
   ],
   "source": [
    "df[['education', 'education_degree']]"
   ]
  },
  {
   "cell_type": "code",
   "execution_count": null,
   "metadata": {},
   "outputs": [],
   "source": []
  }
 ],
 "metadata": {
  "kernelspec": {
   "display_name": "env",
   "language": "python",
   "name": "python3"
  },
  "language_info": {
   "codemirror_mode": {
    "name": "ipython",
    "version": 3
   },
   "file_extension": ".py",
   "mimetype": "text/x-python",
   "name": "python",
   "nbconvert_exporter": "python",
   "pygments_lexer": "ipython3",
   "version": "3.11.2"
  }
 },
 "nbformat": 4,
 "nbformat_minor": 2
}
