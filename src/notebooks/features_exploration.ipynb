{
 "cells": [
  {
   "cell_type": "markdown",
   "metadata": {},
   "source": [
    "Imports"
   ]
  },
  {
   "cell_type": "code",
   "execution_count": 67,
   "metadata": {},
   "outputs": [],
   "source": [
    "import pandas as pd\n",
    "import numpy as np"
   ]
  },
  {
   "cell_type": "code",
   "execution_count": 50,
   "metadata": {},
   "outputs": [],
   "source": [
    "df = pd.read_csv('../../data/feature_store/new_features.csv')"
   ]
  },
  {
   "cell_type": "code",
   "execution_count": 51,
   "metadata": {},
   "outputs": [
    {
     "name": "stdout",
     "output_type": "stream",
     "text": [
      "<class 'pandas.core.frame.DataFrame'>\n",
      "RangeIndex: 5000 entries, 0 to 4999\n",
      "Data columns (total 15 columns):\n",
      " #   Column              Non-Null Count  Dtype  \n",
      "---  ------              --------------  -----  \n",
      " 0   age                 5000 non-null   int64  \n",
      " 1   experience          5000 non-null   int64  \n",
      " 2   income              5000 non-null   int64  \n",
      " 3   zip_code            5000 non-null   int64  \n",
      " 4   family              5000 non-null   int64  \n",
      " 5   cc_avg              5000 non-null   float64\n",
      " 6   education           5000 non-null   int64  \n",
      " 7   mortgage            5000 non-null   int64  \n",
      " 8   personal_loan       5000 non-null   int64  \n",
      " 9   securities_account  5000 non-null   int64  \n",
      " 10  cd_account          5000 non-null   int64  \n",
      " 11  online              5000 non-null   int64  \n",
      " 12  credit_card         5000 non-null   int64  \n",
      " 13  age_bracket         5000 non-null   int64  \n",
      " 14  age_bracket_name    5000 non-null   object \n",
      "dtypes: float64(1), int64(13), object(1)\n",
      "memory usage: 586.1+ KB\n"
     ]
    }
   ],
   "source": [
    "df.info()"
   ]
  },
  {
   "cell_type": "code",
   "execution_count": 52,
   "metadata": {},
   "outputs": [],
   "source": [
    "# columns\n",
    "\n",
    "features = df.columns.tolist()"
   ]
  },
  {
   "cell_type": "code",
   "execution_count": 62,
   "metadata": {},
   "outputs": [],
   "source": [
    "#  Renda per capita por membro da familia (média)\n",
    "'''\n",
    "pode ajudar a entender a capacidade de pagamento\n",
    "de despesas per capita.\n",
    "'''\n",
    "\n",
    "df['income_per_family_member'] = df['income'] / (df['family'] + 1)\n",
    "\n",
    "# Despesas com cartão de crédito em relação a renda\n",
    "\n",
    "'''\n",
    "captura o quanto o individuo gasta com cartão de crédito em relação\n",
    "ao total de sua renda. Pode ser uma indicação de risco caso essa \n",
    "taxa seja alta.\n",
    "'''\n",
    "\n",
    "df['cc_to_income_ratio'] = df['cc_avg'] / df['income']\n",
    "\n",
    "# Indice de comprometimento de renda com dividas\n",
    "\n",
    "'''\n",
    "fornece uma ideia da relação entre a dívida e a renda total\n",
    "para medir a capacidade de tomar um novo crédito.\n",
    "'''\n",
    "\n",
    "df['debt_to_income_ratio'] = (df['cc_avg'] + df['mortgage']) / df['income']\n",
    "\n",
    "\n",
    "# Nível de maturidade financeira\n",
    "\n",
    "'''\n",
    "\n",
    "'''\n",
    "\n",
    "df['financial_maturity_index'] = (df['income'] / df['cc_avg'])"
   ]
  },
  {
   "cell_type": "code",
   "execution_count": 63,
   "metadata": {},
   "outputs": [
    {
     "name": "stdout",
     "output_type": "stream",
     "text": [
      "<class 'pandas.core.frame.DataFrame'>\n",
      "RangeIndex: 5000 entries, 0 to 4999\n",
      "Data columns (total 19 columns):\n",
      " #   Column                    Non-Null Count  Dtype  \n",
      "---  ------                    --------------  -----  \n",
      " 0   age                       5000 non-null   int64  \n",
      " 1   experience                5000 non-null   int64  \n",
      " 2   income                    5000 non-null   int64  \n",
      " 3   zip_code                  5000 non-null   int64  \n",
      " 4   family                    5000 non-null   int64  \n",
      " 5   cc_avg                    5000 non-null   float64\n",
      " 6   education                 5000 non-null   int64  \n",
      " 7   mortgage                  5000 non-null   int64  \n",
      " 8   personal_loan             5000 non-null   int64  \n",
      " 9   securities_account        5000 non-null   int64  \n",
      " 10  cd_account                5000 non-null   int64  \n",
      " 11  online                    5000 non-null   int64  \n",
      " 12  credit_card               5000 non-null   int64  \n",
      " 13  age_bracket               5000 non-null   int64  \n",
      " 14  age_bracket_name          5000 non-null   object \n",
      " 15  income_per_family_member  5000 non-null   float64\n",
      " 16  cc_to_income_ratio        5000 non-null   float64\n",
      " 17  debt_to_income_ratio      5000 non-null   float64\n",
      " 18  financial_maturity_index  5000 non-null   float64\n",
      "dtypes: float64(5), int64(13), object(1)\n",
      "memory usage: 742.3+ KB\n"
     ]
    }
   ],
   "source": [
    "df.info()"
   ]
  },
  {
   "cell_type": "code",
   "execution_count": 64,
   "metadata": {},
   "outputs": [
    {
     "data": {
      "text/plain": [
       "<Axes: ylabel='Frequency'>"
      ]
     },
     "execution_count": 64,
     "metadata": {},
     "output_type": "execute_result"
    },
    {
     "data": {
      "image/png": "[encoded data removed]",
      "text/plain": [
       "<Figure size 640x480 with 1 Axes>"
      ]
     },
     "metadata": {},
     "output_type": "display_data"
    }
   ],
   "source": [
    "df['income_per_family_member'].plot(kind='hist', bins=35)"
   ]
  },
  {
   "cell_type": "code",
   "execution_count": 65,
   "metadata": {},
   "outputs": [
    {
     "data": {
      "text/plain": [
       "<Axes: ylabel='Frequency'>"
      ]
     },
     "execution_count": 65,
     "metadata": {},
     "output_type": "execute_result"
    },
    {
     "data": {
      "image/png": "[encoded data removed]",
      "text/plain": [
       "<Figure size 640x480 with 1 Axes>"
      ]
     },
     "metadata": {},
     "output_type": "display_data"
    }
   ],
   "source": [
    "df['cc_to_income_ratio'].plot(kind='hist', bins=35)"
   ]
  },
  {
   "cell_type": "code",
   "execution_count": 68,
   "metadata": {},
   "outputs": [
    {
     "data": {
      "text/html": [
       "<div>\n",
       "<style scoped>\n",
       "    .dataframe tbody tr th:only-of-type {\n",
       "        vertical-align: middle;\n",
       "    }\n",
       "\n",
       "    .dataframe tbody tr th {\n",
       "        vertical-align: top;\n",
       "    }\n",
       "\n",
       "    .dataframe thead th {\n",
       "        text-align: right;\n",
       "    }\n",
       "</style>\n",
       "<table border=\"1\" class=\"dataframe\">\n",
       "  <thead>\n",
       "    <tr style=\"text-align: right;\">\n",
       "      <th></th>\n",
       "      <th>age</th>\n",
       "      <th>experience</th>\n",
       "      <th>income</th>\n",
       "      <th>zip_code</th>\n",
       "      <th>family</th>\n",
       "      <th>cc_avg</th>\n",
       "      <th>education</th>\n",
       "      <th>mortgage</th>\n",
       "      <th>personal_loan</th>\n",
       "      <th>securities_account</th>\n",
       "      <th>cd_account</th>\n",
       "      <th>online</th>\n",
       "      <th>credit_card</th>\n",
       "      <th>age_bracket</th>\n",
       "      <th>age_bracket_name</th>\n",
       "      <th>income_per_family_member</th>\n",
       "      <th>cc_to_income_ratio</th>\n",
       "      <th>debt_to_income_ratio</th>\n",
       "      <th>financial_maturity_index</th>\n",
       "    </tr>\n",
       "  </thead>\n",
       "  <tbody>\n",
       "    <tr>\n",
       "      <th>63</th>\n",
       "      <td>42</td>\n",
       "      <td>17</td>\n",
       "      <td>32</td>\n",
       "      <td>94523</td>\n",
       "      <td>4</td>\n",
       "      <td>0.0</td>\n",
       "      <td>2</td>\n",
       "      <td>0</td>\n",
       "      <td>0</td>\n",
       "      <td>0</td>\n",
       "      <td>0</td>\n",
       "      <td>1</td>\n",
       "      <td>0</td>\n",
       "      <td>2</td>\n",
       "      <td>Millennials</td>\n",
       "      <td>6.400000</td>\n",
       "      <td>0.0</td>\n",
       "      <td>0.000000</td>\n",
       "      <td>inf</td>\n",
       "    </tr>\n",
       "    <tr>\n",
       "      <th>128</th>\n",
       "      <td>38</td>\n",
       "      <td>14</td>\n",
       "      <td>74</td>\n",
       "      <td>92182</td>\n",
       "      <td>2</td>\n",
       "      <td>0.0</td>\n",
       "      <td>1</td>\n",
       "      <td>0</td>\n",
       "      <td>0</td>\n",
       "      <td>1</td>\n",
       "      <td>0</td>\n",
       "      <td>1</td>\n",
       "      <td>0</td>\n",
       "      <td>2</td>\n",
       "      <td>Millennials</td>\n",
       "      <td>24.666667</td>\n",
       "      <td>0.0</td>\n",
       "      <td>0.000000</td>\n",
       "      <td>inf</td>\n",
       "    </tr>\n",
       "    <tr>\n",
       "      <th>198</th>\n",
       "      <td>27</td>\n",
       "      <td>3</td>\n",
       "      <td>59</td>\n",
       "      <td>94123</td>\n",
       "      <td>4</td>\n",
       "      <td>0.0</td>\n",
       "      <td>1</td>\n",
       "      <td>90</td>\n",
       "      <td>0</td>\n",
       "      <td>1</td>\n",
       "      <td>0</td>\n",
       "      <td>1</td>\n",
       "      <td>0</td>\n",
       "      <td>2</td>\n",
       "      <td>Millennials</td>\n",
       "      <td>11.800000</td>\n",
       "      <td>0.0</td>\n",
       "      <td>1.525424</td>\n",
       "      <td>inf</td>\n",
       "    </tr>\n",
       "    <tr>\n",
       "      <th>210</th>\n",
       "      <td>51</td>\n",
       "      <td>26</td>\n",
       "      <td>20</td>\n",
       "      <td>92131</td>\n",
       "      <td>2</td>\n",
       "      <td>0.0</td>\n",
       "      <td>1</td>\n",
       "      <td>0</td>\n",
       "      <td>0</td>\n",
       "      <td>0</td>\n",
       "      <td>0</td>\n",
       "      <td>0</td>\n",
       "      <td>0</td>\n",
       "      <td>3</td>\n",
       "      <td>Generation X</td>\n",
       "      <td>6.666667</td>\n",
       "      <td>0.0</td>\n",
       "      <td>0.000000</td>\n",
       "      <td>inf</td>\n",
       "    </tr>\n",
       "    <tr>\n",
       "      <th>215</th>\n",
       "      <td>38</td>\n",
       "      <td>14</td>\n",
       "      <td>92</td>\n",
       "      <td>95818</td>\n",
       "      <td>2</td>\n",
       "      <td>0.0</td>\n",
       "      <td>1</td>\n",
       "      <td>249</td>\n",
       "      <td>0</td>\n",
       "      <td>0</td>\n",
       "      <td>0</td>\n",
       "      <td>1</td>\n",
       "      <td>1</td>\n",
       "      <td>2</td>\n",
       "      <td>Millennials</td>\n",
       "      <td>30.666667</td>\n",
       "      <td>0.0</td>\n",
       "      <td>2.706522</td>\n",
       "      <td>inf</td>\n",
       "    </tr>\n",
       "    <tr>\n",
       "      <th>...</th>\n",
       "      <td>...</td>\n",
       "      <td>...</td>\n",
       "      <td>...</td>\n",
       "      <td>...</td>\n",
       "      <td>...</td>\n",
       "      <td>...</td>\n",
       "      <td>...</td>\n",
       "      <td>...</td>\n",
       "      <td>...</td>\n",
       "      <td>...</td>\n",
       "      <td>...</td>\n",
       "      <td>...</td>\n",
       "      <td>...</td>\n",
       "      <td>...</td>\n",
       "      <td>...</td>\n",
       "      <td>...</td>\n",
       "      <td>...</td>\n",
       "      <td>...</td>\n",
       "      <td>...</td>\n",
       "    </tr>\n",
       "    <tr>\n",
       "      <th>4801</th>\n",
       "      <td>34</td>\n",
       "      <td>10</td>\n",
       "      <td>88</td>\n",
       "      <td>94404</td>\n",
       "      <td>2</td>\n",
       "      <td>0.0</td>\n",
       "      <td>1</td>\n",
       "      <td>121</td>\n",
       "      <td>0</td>\n",
       "      <td>0</td>\n",
       "      <td>0</td>\n",
       "      <td>1</td>\n",
       "      <td>0</td>\n",
       "      <td>2</td>\n",
       "      <td>Millennials</td>\n",
       "      <td>29.333333</td>\n",
       "      <td>0.0</td>\n",
       "      <td>1.375000</td>\n",
       "      <td>inf</td>\n",
       "    </tr>\n",
       "    <tr>\n",
       "      <th>4826</th>\n",
       "      <td>56</td>\n",
       "      <td>31</td>\n",
       "      <td>81</td>\n",
       "      <td>93943</td>\n",
       "      <td>2</td>\n",
       "      <td>0.0</td>\n",
       "      <td>3</td>\n",
       "      <td>225</td>\n",
       "      <td>0</td>\n",
       "      <td>0</td>\n",
       "      <td>0</td>\n",
       "      <td>0</td>\n",
       "      <td>0</td>\n",
       "      <td>3</td>\n",
       "      <td>Generation X</td>\n",
       "      <td>27.000000</td>\n",
       "      <td>0.0</td>\n",
       "      <td>2.777778</td>\n",
       "      <td>inf</td>\n",
       "    </tr>\n",
       "    <tr>\n",
       "      <th>4837</th>\n",
       "      <td>36</td>\n",
       "      <td>10</td>\n",
       "      <td>183</td>\n",
       "      <td>95348</td>\n",
       "      <td>2</td>\n",
       "      <td>0.0</td>\n",
       "      <td>1</td>\n",
       "      <td>0</td>\n",
       "      <td>0</td>\n",
       "      <td>0</td>\n",
       "      <td>0</td>\n",
       "      <td>0</td>\n",
       "      <td>0</td>\n",
       "      <td>2</td>\n",
       "      <td>Millennials</td>\n",
       "      <td>61.000000</td>\n",
       "      <td>0.0</td>\n",
       "      <td>0.000000</td>\n",
       "      <td>inf</td>\n",
       "    </tr>\n",
       "    <tr>\n",
       "      <th>4910</th>\n",
       "      <td>48</td>\n",
       "      <td>22</td>\n",
       "      <td>120</td>\n",
       "      <td>90291</td>\n",
       "      <td>1</td>\n",
       "      <td>0.0</td>\n",
       "      <td>1</td>\n",
       "      <td>0</td>\n",
       "      <td>0</td>\n",
       "      <td>0</td>\n",
       "      <td>0</td>\n",
       "      <td>1</td>\n",
       "      <td>0</td>\n",
       "      <td>3</td>\n",
       "      <td>Generation X</td>\n",
       "      <td>60.000000</td>\n",
       "      <td>0.0</td>\n",
       "      <td>0.000000</td>\n",
       "      <td>inf</td>\n",
       "    </tr>\n",
       "    <tr>\n",
       "      <th>4949</th>\n",
       "      <td>29</td>\n",
       "      <td>5</td>\n",
       "      <td>64</td>\n",
       "      <td>94114</td>\n",
       "      <td>4</td>\n",
       "      <td>0.0</td>\n",
       "      <td>1</td>\n",
       "      <td>249</td>\n",
       "      <td>0</td>\n",
       "      <td>0</td>\n",
       "      <td>0</td>\n",
       "      <td>0</td>\n",
       "      <td>1</td>\n",
       "      <td>2</td>\n",
       "      <td>Millennials</td>\n",
       "      <td>12.800000</td>\n",
       "      <td>0.0</td>\n",
       "      <td>3.890625</td>\n",
       "      <td>inf</td>\n",
       "    </tr>\n",
       "  </tbody>\n",
       "</table>\n",
       "<p>106 rows × 19 columns</p>\n",
       "</div>"
      ],
      "text/plain": [
       "      age  experience  income  zip_code  family  cc_avg  education  mortgage  \\\n",
       "63     42          17      32     94523       4     0.0          2         0   \n",
       "128    38          14      74     92182       2     0.0          1         0   \n",
       "198    27           3      59     94123       4     0.0          1        90   \n",
       "210    51          26      20     92131       2     0.0          1         0   \n",
       "215    38          14      92     95818       2     0.0          1       249   \n",
       "...   ...         ...     ...       ...     ...     ...        ...       ...   \n",
       "4801   34          10      88     94404       2     0.0          1       121   \n",
       "4826   56          31      81     93943       2     0.0          3       225   \n",
       "4837   36          10     183     95348       2     0.0          1         0   \n",
       "4910   48          22     120     90291       1     0.0          1         0   \n",
       "4949   29           5      64     94114       4     0.0          1       249   \n",
       "\n",
       "      personal_loan  securities_account  cd_account  online  credit_card  \\\n",
       "63                0                   0           0       1            0   \n",
       "128               0                   1           0       1            0   \n",
       "198               0                   1           0       1            0   \n",
       "210               0                   0           0       0            0   \n",
       "215               0                   0           0       1            1   \n",
       "...             ...                 ...         ...     ...          ...   \n",
       "4801              0                   0           0       1            0   \n",
       "4826              0                   0           0       0            0   \n",
       "4837              0                   0           0       0            0   \n",
       "4910              0                   0           0       1            0   \n",
       "4949              0                   0           0       0            1   \n",
       "\n",
       "      age_bracket age_bracket_name  income_per_family_member  \\\n",
       "63              2      Millennials                  6.400000   \n",
       "128             2      Millennials                 24.666667   \n",
       "198             2      Millennials                 11.800000   \n",
       "210             3     Generation X                  6.666667   \n",
       "215             2      Millennials                 30.666667   \n",
       "...           ...              ...                       ...   \n",
       "4801            2      Millennials                 29.333333   \n",
       "4826            3     Generation X                 27.000000   \n",
       "4837            2      Millennials                 61.000000   \n",
       "4910            3     Generation X                 60.000000   \n",
       "4949            2      Millennials                 12.800000   \n",
       "\n",
       "      cc_to_income_ratio  debt_to_income_ratio  financial_maturity_index  \n",
       "63                   0.0              0.000000                       inf  \n",
       "128                  0.0              0.000000                       inf  \n",
       "198                  0.0              1.525424                       inf  \n",
       "210                  0.0              0.000000                       inf  \n",
       "215                  0.0              2.706522                       inf  \n",
       "...                  ...                   ...                       ...  \n",
       "4801                 0.0              1.375000                       inf  \n",
       "4826                 0.0              2.777778                       inf  \n",
       "4837                 0.0              0.000000                       inf  \n",
       "4910                 0.0              0.000000                       inf  \n",
       "4949                 0.0              3.890625                       inf  \n",
       "\n",
       "[106 rows x 19 columns]"
      ]
     },
     "execution_count": 68,
     "metadata": {},
     "output_type": "execute_result"
    }
   ],
   "source": [
    "# Identificando valores tendendo ao infinito...\n",
    "\n",
    "infinite_values = df[df['financial_maturity_index'].isin([np.inf, -np.inf])]"
   ]
  },
  {
   "cell_type": "code",
   "execution_count": 69,
   "metadata": {},
   "outputs": [],
   "source": [
    "# Tratando valores que podem estar tendendo ao infinito\n",
    "\n",
    "df.replace([np.inf, -np.inf], np.nan, inplace=True)\n",
    "df.dropna(inplace=True)"
   ]
  },
  {
   "cell_type": "code",
   "execution_count": 73,
   "metadata": {},
   "outputs": [
    {
     "data": {
      "text/plain": [
       "0        30.625000\n",
       "1        22.666667\n",
       "2        11.000000\n",
       "3        37.037037\n",
       "4        45.000000\n",
       "           ...    \n",
       "4995     21.052632\n",
       "4996     37.500000\n",
       "4997     80.000000\n",
       "4998     98.000000\n",
       "4999    103.750000\n",
       "Name: financial_maturity_index, Length: 4894, dtype: float64"
      ]
     },
     "execution_count": 73,
     "metadata": {},
     "output_type": "execute_result"
    }
   ],
   "source": [
    "df['financial_maturity_index']"
   ]
  },
  {
   "cell_type": "code",
   "execution_count": 70,
   "metadata": {},
   "outputs": [
    {
     "data": {
      "text/plain": [
       "<Axes: ylabel='Frequency'>"
      ]
     },
     "execution_count": 70,
     "metadata": {},
     "output_type": "execute_result"
    },
    {
     "data": {
      "image/png": "[encoded data removed]",
      "text/plain": [
       "<Figure size 640x480 with 1 Axes>"
      ]
     },
     "metadata": {},
     "output_type": "display_data"
    }
   ],
   "source": [
    "df['financial_maturity_index'].plot(kind='hist')"
   ]
  },
  {
   "cell_type": "code",
   "execution_count": 72,
   "metadata": {},
   "outputs": [
    {
     "name": "stdout",
     "output_type": "stream",
     "text": [
      "<class 'pandas.core.frame.DataFrame'>\n",
      "Index: 4894 entries, 0 to 4999\n",
      "Data columns (total 19 columns):\n",
      " #   Column                    Non-Null Count  Dtype  \n",
      "---  ------                    --------------  -----  \n",
      " 0   age                       4894 non-null   int64  \n",
      " 1   experience                4894 non-null   int64  \n",
      " 2   income                    4894 non-null   int64  \n",
      " 3   zip_code                  4894 non-null   int64  \n",
      " 4   family                    4894 non-null   int64  \n",
      " 5   cc_avg                    4894 non-null   float64\n",
      " 6   education                 4894 non-null   int64  \n",
      " 7   mortgage                  4894 non-null   int64  \n",
      " 8   personal_loan             4894 non-null   int64  \n",
      " 9   securities_account        4894 non-null   int64  \n",
      " 10  cd_account                4894 non-null   int64  \n",
      " 11  online                    4894 non-null   int64  \n",
      " 12  credit_card               4894 non-null   int64  \n",
      " 13  age_bracket               4894 non-null   int64  \n",
      " 14  age_bracket_name          4894 non-null   object \n",
      " 15  income_per_family_member  4894 non-null   float64\n",
      " 16  cc_to_income_ratio        4894 non-null   float64\n",
      " 17  debt_to_income_ratio      4894 non-null   float64\n",
      " 18  financial_maturity_index  4894 non-null   float64\n",
      "dtypes: float64(5), int64(13), object(1)\n",
      "memory usage: 764.7+ KB\n"
     ]
    }
   ],
   "source": [
    "df.info()"
   ]
  },
  {
   "cell_type": "code",
   "execution_count": 74,
   "metadata": {},
   "outputs": [],
   "source": [
    "df.to_csv('../../data/feature_store/new_features.csv', index=False)"
   ]
  }
 ],
 "metadata": {
  "kernelspec": {
   "display_name": "env",
   "language": "python",
   "name": "python3"
  },
  "language_info": {
   "codemirror_mode": {
    "name": "ipython",
    "version": 3
   },
   "file_extension": ".py",
   "mimetype": "text/x-python",
   "name": "python",
   "nbconvert_exporter": "python",
   "pygments_lexer": "ipython3",
   "version": "3.11.2"
  }
 },
 "nbformat": 4,
 "nbformat_minor": 2
}
