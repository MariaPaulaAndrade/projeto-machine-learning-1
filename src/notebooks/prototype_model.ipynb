{
 "cells": [
  {
   "cell_type": "markdown",
   "metadata": {},
   "source": [
    "## Imports"
   ]
  },
  {
   "cell_type": "code",
   "execution_count": null,
   "metadata": {},
   "outputs": [],
   "source": [
    "import numpy as np\n",
    "import pandas as pd\n",
    "import matplotlib.pyplot as plt\n",
    "\n",
    "import mlflow\n",
    "import mlflow.sklearn\n",
    "\n",
    "from sklearn.model_selection import train_test_split\n",
    "from sklearn.model_selection import RandomizedSearchCV, GridSearchCV\n",
    "from sklearn.tree import DecisionTreeClassifier\n",
    "from sklearn.neighbors import KNeighborsClassifier\n",
    "from sklearn.ensemble import RandomForestClassifier, GradientBoostingClassifier\n",
    "from sklearn.metrics import accuracy_score\n",
    "from skopt import BayesSearchCV\n",
    "\n",
    "import logging\n",
    "import warnings\n",
    "warnings.filterwarnings(\"ignore\")"
   ]
  },
  {
   "cell_type": "markdown",
   "metadata": {},
   "source": [
    "## Dataset"
   ]
  },
  {
   "cell_type": "code",
   "execution_count": 2,
   "metadata": {},
   "outputs": [],
   "source": [
    "data = pd.read_csv('../../data/external/bankloan_cleaned.csv')"
   ]
  },
  {
   "cell_type": "code",
   "execution_count": 3,
   "metadata": {},
   "outputs": [
    {
     "data": {
      "text/html": [
       "<div>\n",
       "<style scoped>\n",
       "    .dataframe tbody tr th:only-of-type {\n",
       "        vertical-align: middle;\n",
       "    }\n",
       "\n",
       "    .dataframe tbody tr th {\n",
       "        vertical-align: top;\n",
       "    }\n",
       "\n",
       "    .dataframe thead th {\n",
       "        text-align: right;\n",
       "    }\n",
       "</style>\n",
       "<table border=\"1\" class=\"dataframe\">\n",
       "  <thead>\n",
       "    <tr style=\"text-align: right;\">\n",
       "      <th></th>\n",
       "      <th>age</th>\n",
       "      <th>experience</th>\n",
       "      <th>income</th>\n",
       "      <th>zip_code</th>\n",
       "      <th>family</th>\n",
       "      <th>cc_avg</th>\n",
       "      <th>education</th>\n",
       "      <th>mortgage</th>\n",
       "      <th>personal_loan</th>\n",
       "      <th>securities_account</th>\n",
       "      <th>cd_account</th>\n",
       "      <th>online</th>\n",
       "      <th>credit_card</th>\n",
       "    </tr>\n",
       "  </thead>\n",
       "  <tbody>\n",
       "    <tr>\n",
       "      <th>0</th>\n",
       "      <td>25</td>\n",
       "      <td>1</td>\n",
       "      <td>49</td>\n",
       "      <td>91107</td>\n",
       "      <td>4</td>\n",
       "      <td>1.6</td>\n",
       "      <td>1</td>\n",
       "      <td>0</td>\n",
       "      <td>0</td>\n",
       "      <td>1</td>\n",
       "      <td>0</td>\n",
       "      <td>0</td>\n",
       "      <td>0</td>\n",
       "    </tr>\n",
       "    <tr>\n",
       "      <th>1</th>\n",
       "      <td>45</td>\n",
       "      <td>19</td>\n",
       "      <td>34</td>\n",
       "      <td>90089</td>\n",
       "      <td>3</td>\n",
       "      <td>1.5</td>\n",
       "      <td>1</td>\n",
       "      <td>0</td>\n",
       "      <td>0</td>\n",
       "      <td>1</td>\n",
       "      <td>0</td>\n",
       "      <td>0</td>\n",
       "      <td>0</td>\n",
       "    </tr>\n",
       "    <tr>\n",
       "      <th>2</th>\n",
       "      <td>39</td>\n",
       "      <td>15</td>\n",
       "      <td>11</td>\n",
       "      <td>94720</td>\n",
       "      <td>1</td>\n",
       "      <td>1.0</td>\n",
       "      <td>1</td>\n",
       "      <td>0</td>\n",
       "      <td>0</td>\n",
       "      <td>0</td>\n",
       "      <td>0</td>\n",
       "      <td>0</td>\n",
       "      <td>0</td>\n",
       "    </tr>\n",
       "    <tr>\n",
       "      <th>3</th>\n",
       "      <td>35</td>\n",
       "      <td>9</td>\n",
       "      <td>100</td>\n",
       "      <td>94112</td>\n",
       "      <td>1</td>\n",
       "      <td>2.7</td>\n",
       "      <td>2</td>\n",
       "      <td>0</td>\n",
       "      <td>0</td>\n",
       "      <td>0</td>\n",
       "      <td>0</td>\n",
       "      <td>0</td>\n",
       "      <td>0</td>\n",
       "    </tr>\n",
       "    <tr>\n",
       "      <th>4</th>\n",
       "      <td>35</td>\n",
       "      <td>8</td>\n",
       "      <td>45</td>\n",
       "      <td>91330</td>\n",
       "      <td>4</td>\n",
       "      <td>1.0</td>\n",
       "      <td>2</td>\n",
       "      <td>0</td>\n",
       "      <td>0</td>\n",
       "      <td>0</td>\n",
       "      <td>0</td>\n",
       "      <td>0</td>\n",
       "      <td>1</td>\n",
       "    </tr>\n",
       "  </tbody>\n",
       "</table>\n",
       "</div>"
      ],
      "text/plain": [
       "   age  experience  income  zip_code  family  cc_avg  education  mortgage  \\\n",
       "0   25           1      49     91107       4     1.6          1         0   \n",
       "1   45          19      34     90089       3     1.5          1         0   \n",
       "2   39          15      11     94720       1     1.0          1         0   \n",
       "3   35           9     100     94112       1     2.7          2         0   \n",
       "4   35           8      45     91330       4     1.0          2         0   \n",
       "\n",
       "   personal_loan  securities_account  cd_account  online  credit_card  \n",
       "0              0                   1           0       0            0  \n",
       "1              0                   1           0       0            0  \n",
       "2              0                   0           0       0            0  \n",
       "3              0                   0           0       0            0  \n",
       "4              0                   0           0       0            1  "
      ]
     },
     "execution_count": 3,
     "metadata": {},
     "output_type": "execute_result"
    }
   ],
   "source": [
    "data.head()"
   ]
  },
  {
   "cell_type": "code",
   "execution_count": 4,
   "metadata": {},
   "outputs": [
    {
     "data": {
      "text/plain": [
       "Index(['age', 'experience', 'income', 'zip_code', 'family', 'cc_avg',\n",
       "       'education', 'mortgage', 'personal_loan', 'securities_account',\n",
       "       'cd_account', 'online', 'credit_card'],\n",
       "      dtype='object')"
      ]
     },
     "execution_count": 4,
     "metadata": {},
     "output_type": "execute_result"
    }
   ],
   "source": [
    "data.columns"
   ]
  },
  {
   "cell_type": "markdown",
   "metadata": {},
   "source": [
    "## Modelagem"
   ]
  },
  {
   "cell_type": "code",
   "execution_count": 5,
   "metadata": {},
   "outputs": [],
   "source": [
    "X, y = data.drop(columns='credit_card'), data['credit_card']\n",
    "\n",
    "X_train, X_test, y_train, y_test = train_test_split(\n",
    "    X, y,\n",
    "    test_size=0.3,\n",
    "    random_state=42\n",
    ")"
   ]
  },
  {
   "cell_type": "code",
   "execution_count": 8,
   "metadata": {},
   "outputs": [
    {
     "name": "stderr",
     "output_type": "stream",
     "text": [
      "2024/11/10 18:00:04 INFO mlflow.tracking.fluent: Experiment with name 'Modelo Protótipo' does not exist. Creating a new experiment.\n"
     ]
    }
   ],
   "source": [
    "mlflow.set_tracking_uri('http://127.0.0.1:8080')\n",
    "mlflow.set_experiment('Modelo Protótipo')\n",
    "mlflow.sklearn.autolog(silent=True)"
   ]
  },
  {
   "cell_type": "code",
   "execution_count": 12,
   "metadata": {},
   "outputs": [],
   "source": [
    "def rand_search_cv(model, param_grid):\n",
    "    with mlflow.start_run(run_name=f'RandomSearchCV_{model.__class__.__name__}'):\n",
    "        rand_search = RandomizedSearchCV(model, \n",
    "                                         param_grid, \n",
    "                                         cv=5, \n",
    "                                         n_jobs=-1,\n",
    "                                         verbose=1)\n",
    "        rand_search.fit(X_train, y_train)\n",
    "        \n",
    "        best_model = rand_search.best_estimator_\n",
    "        predictions = best_model.predict(X_test)\n",
    "        accuracy = accuracy_score(predictions, y_test)\n",
    "\n",
    "        mlflow.log_metric('accuracy', accuracy)\n",
    "        logging.info(f'Melhores parâmetros: {rand_search.best_params_}')\n",
    "        logging.info(f'Precisão (acurácia): {accuracy}')"
   ]
  },
  {
   "cell_type": "code",
   "execution_count": 14,
   "metadata": {},
   "outputs": [],
   "source": [
    "def grid_search_cv(model, param_grid):\n",
    "    with mlflow.start_run(run_name=f'GridSearchCV{model.__class__.__name__}'):\n",
    "        grid_search = GridSearchCV(model, \n",
    "                                         param_grid, \n",
    "                                         cv=5, \n",
    "                                         n_jobs=-1,\n",
    "                                         verbose=1)\n",
    "        grid_search.fit(X_train, y_train)\n",
    "        \n",
    "        best_model = grid_search.best_estimator_\n",
    "        predictions = best_model.predict(X_test)\n",
    "        accuracy = accuracy_score(predictions, y_test)\n",
    "\n",
    "        mlflow.log_metric('accuracy', accuracy)\n",
    "        logging.info(f'Melhores parâmetros: {grid_search.best_params_}')\n",
    "        logging.info(f'Precisão (acurácia): {accuracy}')"
   ]
  },
  {
   "cell_type": "code",
   "execution_count": 13,
   "metadata": {},
   "outputs": [],
   "source": [
    "def bayesian_search_cv(model, param_grid):\n",
    "    with mlflow.start_run(run_name=f'BayesSearchCV{model.__class__.__name__}'):\n",
    "        bayesian_search = BayesSearchCV(model, \n",
    "                                         param_grid, \n",
    "                                         cv=5, \n",
    "                                         n_jobs=-1,\n",
    "                                         verbose=1)\n",
    "        bayesian_search.fit(X_train, y_train)\n",
    "        \n",
    "        best_model = bayesian_search.best_estimator_\n",
    "        predictions = best_model.predict(X_test)\n",
    "        accuracy = accuracy_score(predictions, y_test)\n",
    "\n",
    "        mlflow.log_metric('accuracy', accuracy)\n",
    "        logging.info(f'Melhores parâmetros: {bayesian_search.best_params_}')\n",
    "        logging.info(f'Precisão (acurácia): {accuracy}')"
   ]
  },
  {
   "cell_type": "code",
   "execution_count": 15,
   "metadata": {},
   "outputs": [],
   "source": [
    "param_grid_rf = {'n_estimators': [10, 50, 100],\n",
    "                 'criterion': ['entropy', 'gini'],\n",
    "                 'max_depth': [3, 5, 10, None]}\n",
    "\n",
    "param_grid_gb = {'n_estimators': [10, 50, 100],\n",
    "                 'learning_rate': [0.01, 0.1, 0.2],\n",
    "                 'max_depth': [10, 20, 30]}\n",
    "\n",
    "param_grid_knn = {'n_neighbors': [3, 5, 7, 9]}"
   ]
  },
  {
   "cell_type": "markdown",
   "metadata": {},
   "source": [
    "## Random Search Cross Validation"
   ]
  },
  {
   "cell_type": "code",
   "execution_count": null,
   "metadata": {},
   "outputs": [],
   "source": [
    "rand_search_cv(RandomForestClassifier(), param_grid_rf)"
   ]
  },
  {
   "cell_type": "code",
   "execution_count": null,
   "metadata": {},
   "outputs": [],
   "source": [
    "rand_search_cv(GradientBoostingClassifier(), param_grid_gb)"
   ]
  },
  {
   "cell_type": "code",
   "execution_count": null,
   "metadata": {},
   "outputs": [],
   "source": [
    "rand_search_cv(KNeighborsClassifier(), param_grid_knn)"
   ]
  },
  {
   "cell_type": "markdown",
   "metadata": {},
   "source": [
    "## Grid Search Cross Validation"
   ]
  },
  {
   "cell_type": "code",
   "execution_count": null,
   "metadata": {},
   "outputs": [],
   "source": [
    "grid_search_cv(RandomForestClassifier(), param_grid_rf)"
   ]
  },
  {
   "cell_type": "code",
   "execution_count": null,
   "metadata": {},
   "outputs": [],
   "source": [
    "grid_search_cv(GradientBoostingClassifier(), param_grid_gb)"
   ]
  },
  {
   "cell_type": "code",
   "execution_count": null,
   "metadata": {},
   "outputs": [],
   "source": [
    "grid_search_cv(KNeighborsClassifier(), param_grid_knn)"
   ]
  },
  {
   "cell_type": "markdown",
   "metadata": {},
   "source": [
    "## Bayesian Search Cross Validation"
   ]
  },
  {
   "cell_type": "code",
   "execution_count": null,
   "metadata": {},
   "outputs": [],
   "source": [
    "bayesian_search_cv(RandomForestClassifier(), param_grid_rf)"
   ]
  },
  {
   "cell_type": "code",
   "execution_count": null,
   "metadata": {},
   "outputs": [],
   "source": [
    "bayesian_search_cv(GradientBoostingClassifier(), param_grid_gb)"
   ]
  },
  {
   "cell_type": "code",
   "execution_count": null,
   "metadata": {},
   "outputs": [],
   "source": [
    "bayesian_search_cv(KNeighborsClassifier(), param_grid_knn)"
   ]
  }
 ],
 "metadata": {
  "kernelspec": {
   "display_name": "venv",
   "language": "python",
   "name": "python3"
  },
  "language_info": {
   "codemirror_mode": {
    "name": "ipython",
    "version": 3
   },
   "file_extension": ".py",
   "mimetype": "text/x-python",
   "name": "python",
   "nbconvert_exporter": "python",
   "pygments_lexer": "ipython3",
   "version": "3.12.3"
  }
 },
 "nbformat": 4,
 "nbformat_minor": 2
}
